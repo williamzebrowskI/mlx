{
 "cells": [
  {
   "cell_type": "code",
   "execution_count": 69,
   "metadata": {},
   "outputs": [],
   "source": [
    "import mlx.core as mx\n",
    "import mlx.nn as nn\n",
    "import mlx.optimizers as optim\n",
    "\n",
    "import numpy as np"
   ]
  },
  {
   "cell_type": "code",
   "execution_count": 70,
   "metadata": {},
   "outputs": [],
   "source": [
    "class MLP(nn.Module):\n",
    "    def __init__(\n",
    "        self, num_layers: int, input_dim: int, hidden_dim: int, output_dim: int\n",
    "    ):\n",
    "        super().__init__()\n",
    "        layer_sizes = [input_dim] + [hidden_dim] * num_layers + [output_dim]\n",
    "        self.layers = [\n",
    "            nn.Linear(idim, odim)\n",
    "            for idim, odim in zip(layer_sizes[:-1], layer_sizes[1:])\n",
    "        ]\n",
    "\n",
    "    def __call__(self, x):\n",
    "        for l in self.layers[:-1]:\n",
    "            x = mx.maximum(l(x), 0.0)\n",
    "        return self.layers[-1](x)"
   ]
  },
  {
   "cell_type": "markdown",
   "metadata": {},
   "source": [
    "## Different types of loss functions we can use:"
   ]
  },
  {
   "cell_type": "code",
   "execution_count": 71,
   "metadata": {},
   "outputs": [],
   "source": [
    "def loss_fn(model, X, y):\n",
    "    return mx.mean(nn.losses.cross_entropy(model(X), y))"
   ]
  },
  {
   "cell_type": "code",
   "execution_count": 72,
   "metadata": {},
   "outputs": [],
   "source": [
    "def mse_loss_fn(model, X, y):\n",
    "    return mx.mean(nn.losses.mse_loss(model(X), y))"
   ]
  },
  {
   "cell_type": "code",
   "execution_count": 73,
   "metadata": {},
   "outputs": [],
   "source": [
    "def eval_fn(model, X, y):\n",
    "    return mx.mean(mx.argmax(model(X), axis=1) == y)"
   ]
  },
  {
   "cell_type": "code",
   "execution_count": 74,
   "metadata": {},
   "outputs": [],
   "source": [
    "num_layers = 2\n",
    "hidden_dim = 32\n",
    "num_classes = 10\n",
    "batch_size = 256\n",
    "num_epochs = 10\n",
    "learning_rate = 1e-1\n",
    "\n",
    "# Load the data\n",
    "import mnist\n",
    "train_images, train_labels, test_images, test_labels = map(\n",
    "    mx.array, mnist.mnist()\n",
    ")"
   ]
  },
  {
   "cell_type": "code",
   "execution_count": 75,
   "metadata": {},
   "outputs": [],
   "source": [
    "def batch_iterate(batch_size, X, y):\n",
    "    perm = mx.array(np.random.permutation(y.size))\n",
    "    for s in range(0, y.size, batch_size):\n",
    "        ids = perm[s : s + batch_size]\n",
    "        yield X[ids], y[ids]"
   ]
  },
  {
   "cell_type": "code",
   "execution_count": 76,
   "metadata": {},
   "outputs": [
    {
     "name": "stdout",
     "output_type": "stream",
     "text": [
      "MLP(\n",
      "  (layers.0): Linear(input_dims=784, output_dims=32, bias=True)\n",
      "  (layers.1): Linear(input_dims=32, output_dims=32, bias=True)\n",
      "  (layers.2): Linear(input_dims=32, output_dims=10, bias=True)\n",
      ")\n"
     ]
    }
   ],
   "source": [
    "# Load the model\n",
    "model = MLP(num_layers, train_images.shape[-1], hidden_dim, num_classes)\n",
    "\n",
    "print(model)"
   ]
  },
  {
   "cell_type": "code",
   "execution_count": 77,
   "metadata": {},
   "outputs": [
    {
     "data": {
      "text/plain": [
       "{'layers': [{'weight': array([[-0.0348091, -0.00404139, -0.00787482, ..., -0.0158604, 0.0113245, -0.0224375],\n",
       "          [0.0267361, 0.0260765, -0.00518377, ..., 0.0159355, -0.0146609, 0.005239],\n",
       "          [0.0303898, -0.010741, -0.0292016, ..., 0.0198094, -0.0211013, -0.00996849],\n",
       "          ...,\n",
       "          [-0.0318463, -0.0197012, -0.0287083, ..., 0.00663459, 0.0249421, 0.0167761],\n",
       "          [-0.0319448, -0.0346811, 0.00882965, ..., 0.010089, 0.00793833, 0.0319544],\n",
       "          [0.00984352, 0.0345296, 0.0198374, ..., -0.0208674, -0.000505667, 0.00596671]], dtype=float32),\n",
       "   'bias': array([-0.0108264, 0.00637251, 0.0292783, ..., 0.0170724, 0.0151225, 0.0343075], dtype=float32)},\n",
       "  {'weight': array([[-0.0585833, 0.0382155, -0.144778, ..., -0.0819081, -0.171623, -0.150085],\n",
       "          [-0.0690722, -0.0673616, 0.0676869, ..., -0.00347362, -0.125046, -0.149613],\n",
       "          [0.0834324, 0.0604245, -0.0918727, ..., 0.124461, -0.0188333, 0.0923586],\n",
       "          ...,\n",
       "          [-0.148513, -0.135197, 0.0749914, ..., 0.139411, 0.0695618, 0.140874],\n",
       "          [-0.146606, 0.0284916, 0.0410526, ..., -0.0362819, -0.1714, 0.156998],\n",
       "          [-0.105451, -0.104926, 0.00663012, ..., -0.120781, 0.151842, 0.0743879]], dtype=float32),\n",
       "   'bias': array([0.0216031, -0.164093, 0.151805, ..., 0.0674958, 0.0385252, 0.115019], dtype=float32)},\n",
       "  {'weight': array([[0.0677155, 0.162437, -0.0836036, ..., 0.000152975, 0.0204249, -0.0884575],\n",
       "          [0.0760069, -0.0838348, -0.14329, ..., 0.158728, -0.153666, 0.00773855],\n",
       "          [0.0239734, 0.0441156, 0.103814, ..., -0.0800552, -0.0796428, 0.0128575],\n",
       "          ...,\n",
       "          [-0.0619331, -0.00998898, 0.0325582, ..., -0.0378732, 0.0393022, 0.00573501],\n",
       "          [0.115119, -0.12328, 0.0214621, ..., -0.0594052, -0.166609, 0.157749],\n",
       "          [-0.105876, 0.129906, 0.0120071, ..., 0.105986, 0.120471, 0.0616549]], dtype=float32),\n",
       "   'bias': array([-0.113679, -0.11697, -0.0248655, ..., -0.0229856, -0.0258309, 0.0204501], dtype=float32)}]}"
      ]
     },
     "execution_count": 77,
     "metadata": {},
     "output_type": "execute_result"
    }
   ],
   "source": [
    "model.parameters()"
   ]
  },
  {
   "cell_type": "code",
   "execution_count": 78,
   "metadata": {},
   "outputs": [],
   "source": [
    "mx.eval(model.parameters())"
   ]
  },
  {
   "cell_type": "code",
   "execution_count": 88,
   "metadata": {},
   "outputs": [
    {
     "name": "stdout",
     "output_type": "stream",
     "text": [
      "Epoch 0: Test accuracy 0.972\n",
      "Epoch 1: Test accuracy 0.903\n",
      "Epoch 2: Test accuracy 0.972\n",
      "Epoch 3: Test accuracy 0.973\n",
      "Epoch 4: Test accuracy 0.972\n",
      "Epoch 5: Test accuracy 0.971\n",
      "Epoch 6: Test accuracy 0.971\n",
      "Epoch 7: Test accuracy 0.973\n",
      "Epoch 8: Test accuracy 0.974\n",
      "Epoch 9: Test accuracy 0.972\n"
     ]
    }
   ],
   "source": [
    "# Get a function which gives the loss and gradient of the\n",
    "# loss with respect to the model's trainable parameters\n",
    "loss_and_grad_fn = nn.value_and_grad(model, loss_fn)  # Create a function that returns the loss and its gradients\n",
    "\n",
    "# Instantiate the optimizer\n",
    "optimizer = optim.SGD(learning_rate=learning_rate)  # Initialize the optimizer with a specific learning rate\n",
    "\n",
    "for e in range(num_epochs):  # Outer loop for iterating through each epoch\n",
    "    for X, y in batch_iterate(batch_size, train_images, train_labels):  # Inner loop for iterating through each mini-batch\n",
    "        loss, grads = loss_and_grad_fn(model, X, y)  # Compute the loss and gradients for the current batch\n",
    "        \n",
    "        # Update the optimizer state and model parameters\n",
    "        # in a single call\n",
    "        optimizer.update(model, grads)  # Update model parameters using the computed gradients\n",
    "        \n",
    "        # Force a graph evaluation\n",
    "        mx.eval(model.parameters(), optimizer.state)  # Ensure all computations are evaluated and parameters are updated\n",
    "\n",
    "    accuracy = eval_fn(model, test_images, test_labels)  # Evaluate model accuracy on the test dataset after each epoch\n",
    "    print(f\"Epoch {e}: Test accuracy {accuracy.item():.3f}\")  # Print the epoch number and the corresponding test accuracy"
   ]
  },
  {
   "cell_type": "code",
   "execution_count": null,
   "metadata": {},
   "outputs": [],
   "source": []
  }
 ],
 "metadata": {
  "kernelspec": {
   "display_name": ".venv",
   "language": "python",
   "name": "python3"
  },
  "language_info": {
   "codemirror_mode": {
    "name": "ipython",
    "version": 3
   },
   "file_extension": ".py",
   "mimetype": "text/x-python",
   "name": "python",
   "nbconvert_exporter": "python",
   "pygments_lexer": "ipython3",
   "version": "3.11.7"
  }
 },
 "nbformat": 4,
 "nbformat_minor": 2
}
