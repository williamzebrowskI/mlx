{
 "cells": [
  {
   "cell_type": "code",
   "execution_count": 120,
   "metadata": {},
   "outputs": [],
   "source": [
    "import mlx.core as mx\n",
    "import mlx.nn as nn\n",
    "import mlx.optimizers as optim\n",
    "import numpy as numpy"
   ]
  },
  {
   "cell_type": "code",
   "execution_count": 140,
   "metadata": {},
   "outputs": [
    {
     "name": "stdout",
     "output_type": "stream",
     "text": [
      "input_dim: 1\n",
      "input_dim + hidden_dim: [1, 1]\n",
      "input_dim + hidden_dim * num_layers [1, 1, 1, 1, 1]\n",
      "u\n",
      "[1, 1, 1, 1, 1, 1]\n",
      "layers:\n",
      " [Linear(input_dims=1, output_dims=1, bias=True), Linear(input_dims=1, output_dims=1, bias=True), Linear(input_dims=1, output_dims=1, bias=True), Linear(input_dims=1, output_dims=1, bias=True), Linear(input_dims=1, output_dims=1, bias=True)]\n",
      "[1, 1, 1, 1, 1]\n",
      "[1, 1, 1, 1, 1]\n"
     ]
    }
   ],
   "source": [
    "class MLP(nn.Module):\n",
    "    def __init__(\n",
    "            self, num_layers: int, input_dim: int, hidden_dim: int, output_dim: int\n",
    "    ):\n",
    "        super().__init__()\n",
    "        print(\"input_dim:\", input_dim)\n",
    "        print(\"input_dim + hidden_dim:\", [input_dim] + [hidden_dim])\n",
    "        print(\"input_dim + hidden_dim * num_layers\", [input_dim] + [hidden_dim] * num_layers)\n",
    "        print(\"output_dim: \"[output_dim])\n",
    "        layer_sizes = [input_dim] + [hidden_dim] * num_layers + [output_dim]\n",
    "        print(layer_sizes)\n",
    "        self.layers = [\n",
    "            nn.Linear(idim, odim)\n",
    "            for idim, odim in zip(layer_sizes[:-1], layer_sizes[1:])\n",
    "        ]\n",
    "        print(\"layers:\\n\", self.layers)\n",
    "        print(layer_sizes[:-1]),\n",
    "        print(layer_sizes[1:])\n",
    "    def __call__(self, x):\n",
    "        for l in self.layers[:-1]:\n",
    "            x = mx.maximum(l(x), 0.0)\n",
    "        return self.layers[-1](x)\n",
    "    \n",
    "mlp = MLP(4, 1, 1, 1)\n"
   ]
  },
  {
   "cell_type": "code",
   "execution_count": 90,
   "metadata": {},
   "outputs": [],
   "source": [
    "c = a + b\n",
    "mx.eval(c)"
   ]
  },
  {
   "cell_type": "code",
   "execution_count": 91,
   "metadata": {},
   "outputs": [
    {
     "name": "stdout",
     "output_type": "stream",
     "text": [
      "array([2, 4, 6, 8], dtype=float32)\n"
     ]
    }
   ],
   "source": [
    "c = a + b\n",
    "print(c)"
   ]
  },
  {
   "cell_type": "code",
   "execution_count": 92,
   "metadata": {},
   "outputs": [
    {
     "data": {
      "text/plain": [
       "array([2., 4., 6., 8.], dtype=float32)"
      ]
     },
     "execution_count": 92,
     "metadata": {},
     "output_type": "execute_result"
    }
   ],
   "source": [
    "c = a + b\n",
    "import numpy as np\n",
    "np.array(c)\n"
   ]
  },
  {
   "cell_type": "code",
   "execution_count": 93,
   "metadata": {},
   "outputs": [],
   "source": [
    "a = mx.random.normal((100,))\n",
    "b = mx.random.normal((100,))"
   ]
  },
  {
   "cell_type": "code",
   "execution_count": 94,
   "metadata": {},
   "outputs": [
    {
     "data": {
      "text/plain": [
       "array([0.117236, -3.15298, -0.786867, ..., -0.17244, 1.42161, -1.90438], dtype=float32)"
      ]
     },
     "execution_count": 94,
     "metadata": {},
     "output_type": "execute_result"
    }
   ],
   "source": [
    "c = mx.add(a, b, stream=mx.cpu)\n",
    "d = mx.add(a, c, stream=mx.gpu)\n",
    "c"
   ]
  },
  {
   "cell_type": "code",
   "execution_count": 95,
   "metadata": {},
   "outputs": [],
   "source": [
    "def fun(a, b, d1, d2):\n",
    "  x = mx.matmul(a, b, stream=d1)\n",
    "  for _ in range(500):\n",
    "      b = mx.exp(b, stream=d2)\n",
    "  return x, b\n",
    "\n",
    "\n",
    "a = mx.random.uniform(shape=(4096, 512))\n",
    "b = mx.random.uniform(shape=(512, 4))"
   ]
  },
  {
   "cell_type": "code",
   "execution_count": 96,
   "metadata": {},
   "outputs": [
    {
     "name": "stdout",
     "output_type": "stream",
     "text": [
      "Time for computation fully on GPU: 0.33 milliseconds\n"
     ]
    }
   ],
   "source": [
    "import time\n",
    "\n",
    "start_time = time.time()\n",
    "x_gpu, b_gpu = fun(a, b, mx.gpu, mx.gpu)\n",
    "gpu_time = (time.time() - start_time) * 1000  # Convert to milliseconds\n",
    "print(f\"Time for computation fully on GPU: {gpu_time:.2f} milliseconds\")"
   ]
  },
  {
   "cell_type": "code",
   "execution_count": 97,
   "metadata": {},
   "outputs": [
    {
     "name": "stdout",
     "output_type": "stream",
     "text": [
      "Time for computation with GPU and CPU: 0.36 milliseconds\n"
     ]
    }
   ],
   "source": [
    "# Measure time for computation with GPU and CPU\n",
    "start_time = time.time()\n",
    "x_cpu_gpu, b_cpu_gpu = fun(a, b, mx.gpu, mx.cpu)\n",
    "cpu_gpu_time = (time.time() - start_time) * 1000  # Convert to milliseconds\n",
    "print(f\"Time for computation with GPU and CPU: {cpu_gpu_time:.2f} milliseconds\")"
   ]
  },
  {
   "cell_type": "code",
   "execution_count": 98,
   "metadata": {},
   "outputs": [
    {
     "data": {
      "text/plain": [
       "array([0, 1, 2, ..., 7, 8, 9], dtype=int32)"
      ]
     },
     "execution_count": 98,
     "metadata": {},
     "output_type": "execute_result"
    }
   ],
   "source": [
    "arr = mx.arange(10)\n",
    "arr"
   ]
  },
  {
   "cell_type": "code",
   "execution_count": 99,
   "metadata": {},
   "outputs": [
    {
     "data": {
      "text/plain": [
       "array(3, dtype=int32)"
      ]
     },
     "execution_count": 99,
     "metadata": {},
     "output_type": "execute_result"
    }
   ],
   "source": [
    "arr[3]"
   ]
  },
  {
   "cell_type": "code",
   "execution_count": 100,
   "metadata": {},
   "outputs": [
    {
     "data": {
      "text/plain": [
       "array(8, dtype=int32)"
      ]
     },
     "execution_count": 100,
     "metadata": {},
     "output_type": "execute_result"
    }
   ],
   "source": [
    "arr[-2]"
   ]
  },
  {
   "cell_type": "code",
   "execution_count": 101,
   "metadata": {},
   "outputs": [
    {
     "data": {
      "text/plain": [
       "array([2, 4, 6], dtype=int32)"
      ]
     },
     "execution_count": 101,
     "metadata": {},
     "output_type": "execute_result"
    }
   ],
   "source": [
    "arr[2:8:2]"
   ]
  },
  {
   "cell_type": "code",
   "execution_count": 102,
   "metadata": {},
   "outputs": [
    {
     "data": {
      "text/plain": [
       "array([[[0, 1],\n",
       "        [2, 3]],\n",
       "       [[4, 5],\n",
       "        [6, 7]]], dtype=int32)"
      ]
     },
     "execution_count": 102,
     "metadata": {},
     "output_type": "execute_result"
    }
   ],
   "source": [
    "arr= mx.arange(8).reshape(2, 2, 2)\n",
    "\n",
    "arr"
   ]
  },
  {
   "cell_type": "code",
   "execution_count": 103,
   "metadata": {},
   "outputs": [
    {
     "data": {
      "text/plain": [
       "array([[0, 2],\n",
       "       [4, 6]], dtype=int32)"
      ]
     },
     "execution_count": 103,
     "metadata": {},
     "output_type": "execute_result"
    }
   ],
   "source": [
    "arr[:, :, 0]"
   ]
  },
  {
   "cell_type": "code",
   "execution_count": 104,
   "metadata": {},
   "outputs": [
    {
     "data": {
      "text/plain": [
       "array([[0, 2],\n",
       "       [4, 6]], dtype=int32)"
      ]
     },
     "execution_count": 104,
     "metadata": {},
     "output_type": "execute_result"
    }
   ],
   "source": [
    "arr[..., 0]"
   ]
  },
  {
   "cell_type": "code",
   "execution_count": 105,
   "metadata": {},
   "outputs": [
    {
     "name": "stdout",
     "output_type": "stream",
     "text": [
      "(8,)\n"
     ]
    },
    {
     "data": {
      "text/plain": [
       "(1, 8)"
      ]
     },
     "execution_count": 105,
     "metadata": {},
     "output_type": "execute_result"
    }
   ],
   "source": [
    "arr = mx.arange(8)\n",
    "print(arr.shape)\n",
    "arr[None].shape"
   ]
  },
  {
   "cell_type": "code",
   "execution_count": 106,
   "metadata": {},
   "outputs": [],
   "source": [
    "import mlx.core as mx\n",
    "\n",
    "num_features = 100\n",
    "num_examples = 1_000\n",
    "num_iters = 10_000  # iterations of SGD\n",
    "lr = 0.01  # learning rate for SGD"
   ]
  },
  {
   "cell_type": "code",
   "execution_count": 107,
   "metadata": {},
   "outputs": [
    {
     "data": {
      "text/plain": [
       "array([-0.727584, 0.796034, -0.0982778, ..., -0.0917062, -0.884138, -0.462956], dtype=float32)"
      ]
     },
     "execution_count": 107,
     "metadata": {},
     "output_type": "execute_result"
    }
   ],
   "source": [
    "w_star = mx.random.normal((num_features,))\n",
    "w_star"
   ]
  },
  {
   "cell_type": "code",
   "execution_count": 108,
   "metadata": {},
   "outputs": [
    {
     "data": {
      "text/plain": [
       "1000"
      ]
     },
     "execution_count": 108,
     "metadata": {},
     "output_type": "execute_result"
    }
   ],
   "source": [
    "X = mx.random.normal((num_examples, num_features))\n",
    "len(X)"
   ]
  },
  {
   "cell_type": "code",
   "execution_count": 109,
   "metadata": {},
   "outputs": [
    {
     "data": {
      "text/plain": [
       "1000"
      ]
     },
     "execution_count": 109,
     "metadata": {},
     "output_type": "execute_result"
    }
   ],
   "source": [
    "# Noisy labels\n",
    "eps = 1e-2 * mx.random.normal((num_examples,))\n",
    "y = X @ w_star + eps\n",
    "y\n",
    "len(y)"
   ]
  },
  {
   "cell_type": "code",
   "execution_count": 110,
   "metadata": {},
   "outputs": [],
   "source": [
    "def loss_fn(w):\n",
    "    return 0.5 * mx.mean(mx.square(X @ w - y))\n",
    "\n",
    "grad_fn = mx.grad(loss_fn)"
   ]
  },
  {
   "cell_type": "code",
   "execution_count": 111,
   "metadata": {},
   "outputs": [],
   "source": [
    "import mlx.core as mx\n",
    "import mlx.nn as nn\n",
    "\n",
    "class MLP(nn.Module):\n",
    "    def __init__(self, in_dims: int, out_dims: int):\n",
    "        super().__init__()\n",
    "\n",
    "        self.layers = [\n",
    "            nn.Linear(in_dims, 128),\n",
    "            nn.Linear(128, 128),\n",
    "            nn.Linear(128, out_dims),\n",
    "        ]\n",
    "\n",
    "    def __call__(self, x):\n",
    "        for i, l in enumerate(self.layers):\n",
    "            x = mx.maximum(x, 0) if i > 0 else x\n",
    "            x = l(x)\n",
    "        return x"
   ]
  },
  {
   "cell_type": "code",
   "execution_count": 112,
   "metadata": {},
   "outputs": [],
   "source": [
    "mlp = MLP(2, 10)"
   ]
  },
  {
   "cell_type": "code",
   "execution_count": 113,
   "metadata": {},
   "outputs": [
    {
     "name": "stdout",
     "output_type": "stream",
     "text": [
      "(128, 2)\n"
     ]
    }
   ],
   "source": [
    "# We can access its parameters by calling mlp.parameters()\n",
    "params = mlp.parameters()\n",
    "print(params[\"layers\"][0][\"weight\"].shape)\n"
   ]
  },
  {
   "cell_type": "code",
   "execution_count": 114,
   "metadata": {},
   "outputs": [
    {
     "name": "stdout",
     "output_type": "stream",
     "text": [
      "{'weight': array([[0.549127, -0.294675],\n",
      "       [-0.509866, -0.687971],\n",
      "       [-0.284932, 0.482793],\n",
      "       ...,\n",
      "       [-0.208546, 0.471682],\n",
      "       [-0.294317, -0.128217],\n",
      "       [0.0661728, -0.32373]], dtype=float32), 'bias': array([0.145026, 0.255807, -0.00748521, ..., 0.48975, -0.127781, 0.456474], dtype=float32)}\n"
     ]
    }
   ],
   "source": [
    "# Printing a parameter will cause it to be evaluated and thus initialized\n",
    "print(params[\"layers\"][0])\n",
    "\n",
    "# We can also force evaluate all parameters to initialize the model\n",
    "mx.eval(mlp.parameters())"
   ]
  },
  {
   "cell_type": "code",
   "execution_count": 115,
   "metadata": {},
   "outputs": [],
   "source": [
    "# A simple loss function.\n",
    "# NOTE: It doesn't matter how it uses the mlp model. It currently captures\n",
    "#       it from the local scope. It could be a positional argument or a\n",
    "#       keyword argument.\n",
    "def l2_loss(x, y):\n",
    "    y_hat = mlp(x)\n",
    "    return (y_hat - y).square().mean()"
   ]
  },
  {
   "cell_type": "code",
   "execution_count": 116,
   "metadata": {},
   "outputs": [],
   "source": [
    "# Calling `nn.value_and_grad` instead of `mx.value_and_grad` returns the\n",
    "# gradient with respect to `mlp.trainable_parameters()`\n",
    "loss_and_grad = nn.value_and_grad(mlp, l2_loss)"
   ]
  },
  {
   "cell_type": "code",
   "execution_count": 117,
   "metadata": {},
   "outputs": [
    {
     "name": "stdout",
     "output_type": "stream",
     "text": [
      "MLP(\n",
      "  (layers.0): Linear(input_dims=2, output_dims=128, bias=True)\n",
      "  (layers.1): Linear(input_dims=128, output_dims=128, bias=True)\n",
      "  (layers.2): Linear(input_dims=128, output_dims=10, bias=True)\n",
      ")\n"
     ]
    }
   ],
   "source": [
    "print(mlp)"
   ]
  },
  {
   "cell_type": "code",
   "execution_count": 118,
   "metadata": {},
   "outputs": [
    {
     "data": {
      "text/plain": [
       "{'layers': [{'weight': (128, 2), 'bias': (128,)},\n",
       "  {'weight': (128, 128), 'bias': (128,)},\n",
       "  {'weight': (10, 128), 'bias': (10,)}]}"
      ]
     },
     "execution_count": 118,
     "metadata": {},
     "output_type": "execute_result"
    }
   ],
   "source": [
    "from mlx.utils import tree_map\n",
    "shapes = tree_map(lambda p: p.shape, mlp.parameters())\n",
    "shapes"
   ]
  },
  {
   "cell_type": "code",
   "execution_count": 119,
   "metadata": {},
   "outputs": [
    {
     "data": {
      "text/plain": [
       "18186"
      ]
     },
     "execution_count": 119,
     "metadata": {},
     "output_type": "execute_result"
    }
   ],
   "source": [
    "from mlx.utils import tree_flatten\n",
    "num_params = sum(v.size for _, v in tree_flatten(mlp.parameters()))\n",
    "num_params"
   ]
  },
  {
   "cell_type": "code",
   "execution_count": null,
   "metadata": {},
   "outputs": [],
   "source": []
  }
 ],
 "metadata": {
  "kernelspec": {
   "display_name": ".venv",
   "language": "python",
   "name": "python3"
  },
  "language_info": {
   "codemirror_mode": {
    "name": "ipython",
    "version": 3
   },
   "file_extension": ".py",
   "mimetype": "text/x-python",
   "name": "python",
   "nbconvert_exporter": "python",
   "pygments_lexer": "ipython3",
   "version": "3.11.7"
  }
 },
 "nbformat": 4,
 "nbformat_minor": 2
}
