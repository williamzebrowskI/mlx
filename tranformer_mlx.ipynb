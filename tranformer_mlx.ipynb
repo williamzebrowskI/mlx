{
 "cells": [
  {
   "cell_type": "markdown",
   "metadata": {},
   "source": [
    "# Apple's MLX: Input/Positional Embeddings and Multi-head Self-Attention \n",
    "\n",
    "#### Framework created by Apple."
   ]
  },
  {
   "cell_type": "markdown",
   "metadata": {},
   "source": [
    "In this tutorial, we will walk you through the core concepts and functionalities of MLX, starting with the basics of tokenization and positional encoding. Whether you’re a beginner looking to get started with machine learning on Apple hardware or an experienced practitioner seeking to optimize your workflows, this book provides practical examples and step-by-step instructions to help you harness the full potential of MLX."
   ]
  },
  {
   "cell_type": "code",
   "execution_count": 21,
   "metadata": {},
   "outputs": [],
   "source": [
    "import numpy as np\n",
    "import mlx.core as mx\n",
    "import mlx.nn as nn\n",
    "from nltk.tokenize import word_tokenize\n",
    "from collections import defaultdict"
   ]
  },
  {
   "cell_type": "code",
   "execution_count": 22,
   "metadata": {},
   "outputs": [
    {
     "name": "stdout",
     "output_type": "stream",
     "text": [
      "Tokens: ['what', 'are', 'the', 'advantages', 'and', 'disadvantages', 'of', 'using', 'a', 'unified', 'memory', 'architecture', '?']\n"
     ]
    }
   ],
   "source": [
    "# Step 1: Tokenize the sentence\n",
    "sentence = \"What are the advantages and disadvantages of using a unified memory architecture?\"\n",
    "tokens = word_tokenize(sentence.lower())\n",
    "print(\"Tokens:\", tokens)"
   ]
  },
  {
   "cell_type": "code",
   "execution_count": 23,
   "metadata": {},
   "outputs": [
    {
     "name": "stdout",
     "output_type": "stream",
     "text": [
      "Indices: [0, 1, 2, 3, 4, 5, 6, 7, 8, 9, 10, 11, 12]\n"
     ]
    }
   ],
   "source": [
    "# Step 2: Create a simple vocabulary and convert tokens to indices\n",
    "vocab = defaultdict(lambda: len(vocab))\n",
    "indices = [vocab[token] for token in tokens]\n",
    "print(\"Indices:\", indices)"
   ]
  },
  {
   "cell_type": "code",
   "execution_count": 24,
   "metadata": {},
   "outputs": [
    {
     "data": {
      "text/plain": [
       "13"
      ]
     },
     "execution_count": 24,
     "metadata": {},
     "output_type": "execute_result"
    }
   ],
   "source": [
    "# Step 3: Initialize the embedding layer\n",
    "embedding_dim = 64\n",
    "num_embeddings = len(vocab)\n",
    "embedding_layer = nn.Embedding(num_embeddings, embedding_dim)\n",
    "num_embeddings"
   ]
  },
  {
   "cell_type": "code",
   "execution_count": 25,
   "metadata": {},
   "outputs": [
    {
     "name": "stdout",
     "output_type": "stream",
     "text": [
      "Embedded Tokens: array([[0.0420579, -0.0217199, 0.144781, ..., -0.187219, 0.0524183, -0.077265],\n",
      "       [0.106191, -0.0559775, -0.064885, ..., 0.107559, -0.107151, -0.0797386],\n",
      "       [-0.0259515, 0.0074029, -0.249876, ..., -0.0502137, 0.0282808, -0.00643881],\n",
      "       ...,\n",
      "       [-0.201479, -0.058325, 0.00138668, ..., 0.283879, 0.0707928, -0.033292],\n",
      "       [-0.0201202, 0.194787, -0.053431, ..., -0.036756, 0.207484, 0.0668436],\n",
      "       [-0.102915, 0.0311464, 0.119483, ..., -0.0908144, 0.0415029, 0.0300512]], dtype=float32)\n"
     ]
    }
   ],
   "source": [
    "# Convert indices to MLX array and embed them\n",
    "input_data = mx.array(indices)\n",
    "embedded_tokens = embedding_layer(input_data)\n",
    "print(\"Embedded Tokens:\", embedded_tokens)"
   ]
  },
  {
   "cell_type": "markdown",
   "metadata": {},
   "source": [
    "## RoPE (Rotary Positional Encoding)\n",
    "\n",
    "RoPE applies a rotational transformation to the token embeddings based on their positions in the sequence. This transformation uses sinusoidal functions to create a set of rotation matrices that are applied to the embeddings. The result is a set of positionally encoded embeddings that carry rich relative positional information.\n",
    "\n",
    "In transformer models, understanding the relative positions of tokens within a sequence is crucial for tasks that require contextual understanding, such as language modeling and translation."
   ]
  },
  {
   "cell_type": "markdown",
   "metadata": {},
   "source": [
    "#### Calculate sequence length"
   ]
  },
  {
   "cell_type": "code",
   "execution_count": 26,
   "metadata": {},
   "outputs": [
    {
     "name": "stdout",
     "output_type": "stream",
     "text": [
      "Sequence Length: 13\n"
     ]
    }
   ],
   "source": [
    "seq_len = embedded_tokens.shape[0]\n",
    "print(\"Sequence Length:\", seq_len)"
   ]
  },
  {
   "cell_type": "markdown",
   "metadata": {},
   "source": [
    "#### Generate frequencies for the sinusoidal embeddings"
   ]
  },
  {
   "cell_type": "code",
   "execution_count": 27,
   "metadata": {},
   "outputs": [
    {
     "name": "stdout",
     "output_type": "stream",
     "text": [
      "Inverse Frequencies: [1.0000000e+00 7.4989420e-01 5.6234133e-01 4.2169651e-01 3.1622776e-01\n",
      " 2.3713736e-01 1.7782794e-01 1.3335215e-01 1.0000000e-01 7.4989416e-02\n",
      " 5.6234129e-02 4.2169649e-02 3.1622779e-02 2.3713736e-02 1.7782794e-02\n",
      " 1.3335215e-02 9.9999998e-03 7.4989423e-03 5.6234132e-03 4.2169648e-03\n",
      " 3.1622779e-03 2.3713738e-03 1.7782794e-03 1.3335214e-03 1.0000000e-03\n",
      " 7.4989418e-04 5.6234130e-04 4.2169649e-04 3.1622779e-04 2.3713738e-04\n",
      " 1.7782794e-04 1.3335215e-04]\n",
      "Frequencies: array([[0, 0, 0, ..., 0, 0, 0],\n",
      "       [1, 0.749894, 0.562341, ..., 0.000237137, 0.000177828, 0.000133352],\n",
      "       [2, 1.49979, 1.12468, ..., 0.000474275, 0.000355656, 0.000266704],\n",
      "       ...,\n",
      "       [10, 7.49894, 5.62341, ..., 0.00237137, 0.00177828, 0.00133352],\n",
      "       [11, 8.24884, 6.18575, ..., 0.00260851, 0.00195611, 0.00146687],\n",
      "       [12, 8.99873, 6.7481, ..., 0.00284565, 0.00213394, 0.00160023]], dtype=float32)\n"
     ]
    }
   ],
   "source": [
    "inv_freq = 1.0 / (10000 ** (np.arange(0, embedding_dim, 2).astype(np.float32) / embedding_dim))\n",
    "print(\"Inverse Frequencies:\", inv_freq)\n",
    "\n",
    "freqs = mx.array(np.outer(np.arange(seq_len), inv_freq).astype(np.float32))\n",
    "print(\"Frequencies:\", freqs)"
   ]
  },
  {
   "cell_type": "markdown",
   "metadata": {},
   "source": [
    "#### Calculate cosine and sine of the frequencies"
   ]
  },
  {
   "cell_type": "code",
   "execution_count": 28,
   "metadata": {},
   "outputs": [
    {
     "name": "stdout",
     "output_type": "stream",
     "text": [
      "Cosine Positional Encoding:\n",
      " array([[1, 1, 1, ..., 1, 1, 1],\n",
      "       [0.540302, 0.731761, 0.846009, ..., 1, 1, 1],\n",
      "       [-0.416147, 0.0709483, 0.431463, ..., 1, 1, 1],\n",
      "       ...,\n",
      "       [-0.839072, 0.347628, 0.790132, ..., 0.999997, 0.999998, 0.999999],\n",
      "       [0.0044257, -0.384674, 0.995257, ..., 0.999997, 0.999998, 0.999999],\n",
      "       [0.843854, -0.910606, 0.893862, ..., 0.999996, 0.999998, 0.999999]], dtype=float32)\n",
      "Sine Positional Encoding:\n",
      " array([[0, 0, 0, ..., 0, 0, 0],\n",
      "       [0.841471, 0.681561, 0.533168, ..., 0.000237137, 0.000177828, 0.000133352],\n",
      "       [0.909297, 0.99748, 0.902131, ..., 0.000474275, 0.000355656, 0.000266704],\n",
      "       ...,\n",
      "       [-0.544021, 0.937633, -0.612937, ..., 0.00237137, 0.00177828, 0.00133352],\n",
      "       [-0.99999, 0.923052, -0.0972765, ..., 0.00260851, 0.00195611, 0.00146687],\n",
      "       [-0.536573, 0.413275, 0.448343, ..., 0.00284564, 0.00213393, 0.00160023]], dtype=float32)\n"
     ]
    }
   ],
   "source": [
    "cos_pos = mx.cos(freqs)\n",
    "sin_pos = mx.sin(freqs)\n",
    "print(\"Cosine Positional Encoding:\\n\", cos_pos)\n",
    "print(\"Sine Positional Encoding:\\n\", sin_pos)"
   ]
  },
  {
   "cell_type": "markdown",
   "metadata": {},
   "source": [
    "#### Split embedded tokens into even and odd parts\n",
    "\n",
    " Splits the embedded tokens into even and odd parts."
   ]
  },
  {
   "cell_type": "code",
   "execution_count": 29,
   "metadata": {},
   "outputs": [
    {
     "name": "stdout",
     "output_type": "stream",
     "text": [
      "x1 (even): (13, 32)\n",
      "x2 (odd): (13, 32)\n"
     ]
    }
   ],
   "source": [
    "x1 = embedded_tokens[:, ::2]\n",
    "x2 = embedded_tokens[:, 1::2]\n",
    "print(\"x1 (even):\", x1.shape)\n",
    "print(\"x2 (odd):\", x2.shape)"
   ]
  },
  {
   "cell_type": "markdown",
   "metadata": {},
   "source": [
    "#### Apply rotational transformation\n",
    "\n",
    "Applies the rotational transformation to the split parts."
   ]
  },
  {
   "cell_type": "code",
   "execution_count": 30,
   "metadata": {},
   "outputs": [
    {
     "name": "stdout",
     "output_type": "stream",
     "text": [
      "Transformed x1: (13, 32)\n",
      "Transformed x2: (13, 32)\n"
     ]
    }
   ],
   "source": [
    "x1_new = x1 * cos_pos - x2 * sin_pos\n",
    "x2_new = x1 * sin_pos + x2 * cos_pos\n",
    "print(\"Transformed x1:\", x1_new.shape)\n",
    "print(\"Transformed x2:\", x2_new.shape)"
   ]
  },
  {
   "cell_type": "markdown",
   "metadata": {},
   "source": [
    "#### Concatenate the new x1 and x2 back together\n",
    "\n",
    "Concatenates the transformed parts back together to get the final positional encoded embeddings."
   ]
  },
  {
   "cell_type": "code",
   "execution_count": 31,
   "metadata": {},
   "outputs": [
    {
     "name": "stdout",
     "output_type": "stream",
     "text": [
      "Positional Encoded Embeddings: array([[0.0420579, 0.144781, -0.00211574, ..., -0.170355, -0.187219, -0.077265],\n",
      "       [0.104479, 0.0874509, -0.11703, ..., 0.179546, 0.107529, -0.0797528],\n",
      "       [0.00406822, 0.0670072, -0.0820697, ..., -0.120153, -0.0501617, -0.00643127],\n",
      "       ...,\n",
      "       [0.137325, -0.0300526, -0.164889, ..., -0.023965, 0.283567, -0.0331976],\n",
      "       [0.194696, 0.117608, 0.0401654, ..., 0.135516, -0.0364046, 0.0671479],\n",
      "       [-0.070133, -0.0265817, 0.101781, ..., -0.0253396, -0.0904659, 0.0301176]], dtype=float32)\n"
     ]
    }
   ],
   "source": [
    "positional_encoded_embeddings = mx.concatenate([x1_new, x2_new], axis=-1)\n",
    "print(\"Positional Encoded Embeddings:\", positional_encoded_embeddings)"
   ]
  },
  {
   "cell_type": "markdown",
   "metadata": {},
   "source": [
    "# Multi-Head Self-Attention\n",
    "\n",
    "To enhance the model’s ability to capture different types of relationships, the transformer employs multi-head self-attention. This technique splits the Query, Key, and Value vectors into multiple smaller sub-vectors, each corresponding to a different attention head. The attention mechanism is applied independently to each head, and the results are concatenated and linearly transformed to produce the final output.\n"
   ]
  },
  {
   "cell_type": "code",
   "execution_count": 32,
   "metadata": {},
   "outputs": [
    {
     "name": "stdout",
     "output_type": "stream",
     "text": [
      "Input Embeddings Shape: (1, 13, 64)\n"
     ]
    }
   ],
   "source": [
    "# Define the dimensions\n",
    "num_heads = 8\n",
    "head_dim = embedding_dim // num_heads\n",
    "\n",
    "# Sample input embeddings after positional encoding (from previous section)\n",
    "# For demonstration, we assume `positional_encoded_embeddings` is already defined\n",
    "input_embeddings = positional_encoded_embeddings\n",
    "\n",
    "# Add a batch dimension if missing\n",
    "if len(input_embeddings.shape) == 2:\n",
    "    input_embeddings = input_embeddings[np.newaxis, :, :]\n",
    "\n",
    "print(\"Input Embeddings Shape:\", input_embeddings.shape)"
   ]
  },
  {
   "cell_type": "markdown",
   "metadata": {},
   "source": [
    "#### Linear Transformations\n",
    "\n",
    "This cell applies linear projections to the input embeddings to obtain the Query, Key, and Value matrices."
   ]
  },
  {
   "cell_type": "code",
   "execution_count": 33,
   "metadata": {},
   "outputs": [
    {
     "name": "stdout",
     "output_type": "stream",
     "text": [
      "Queries Shape: (1, 13, 64)\n",
      "Keys Shape: (1, 13, 64)\n",
      "Values Shape: (1, 13, 64)\n"
     ]
    }
   ],
   "source": [
    "# Step 1: Linear Transformations\n",
    "query_proj = nn.Linear(embedding_dim, embedding_dim, bias=False)\n",
    "key_proj = nn.Linear(embedding_dim, embedding_dim, bias=False)\n",
    "value_proj = nn.Linear(embedding_dim, embedding_dim, bias=False)\n",
    "\n",
    "queries = query_proj(input_embeddings)\n",
    "keys = key_proj(input_embeddings)\n",
    "values = value_proj(input_embeddings)\n",
    "\n",
    "print(\"Queries Shape:\", queries.shape)\n",
    "print(\"Keys Shape:\", keys.shape)\n",
    "print(\"Values Shape:\", values.shape)"
   ]
  },
  {
   "cell_type": "markdown",
   "metadata": {},
   "source": [
    "#### Split for Multi-Head Attention\n",
    "\n",
    "This cell reshapes the Query, Key, and Value matrices to prepare them for multi-head attention. It then transposes these matrices to separate the attention heads and prints their shapes."
   ]
  },
  {
   "cell_type": "code",
   "execution_count": 34,
   "metadata": {},
   "outputs": [
    {
     "name": "stdout",
     "output_type": "stream",
     "text": [
      "Split Queries Shape: (1, 8, 13, 8)\n",
      "Split Keys Shape: (1, 8, 13, 8)\n",
      "Split Values Shape: (1, 8, 13, 8)\n"
     ]
    }
   ],
   "source": [
    "# Step 2: Split for Multi-Head Attention\n",
    "batch_size, seq_length, _ = queries.shape\n",
    "\n",
    "queries = queries.reshape(batch_size, seq_length, num_heads, head_dim).transpose(0, 2, 1, 3)\n",
    "keys = keys.reshape(batch_size, seq_length, num_heads, head_dim).transpose(0, 2, 1, 3)\n",
    "values = values.reshape(batch_size, seq_length, num_heads, head_dim).transpose(0, 2, 1, 3)\n",
    "\n",
    "print(\"Split Queries Shape:\", queries.shape)\n",
    "print(\"Split Keys Shape:\", keys.shape)\n",
    "print(\"Split Values Shape:\", values.shape)"
   ]
  },
  {
   "cell_type": "markdown",
   "metadata": {},
   "source": [
    "#### Scaled Dot-Product Attention"
   ]
  },
  {
   "cell_type": "markdown",
   "metadata": {},
   "source": [
    "This cell calculates the attention scores by performing scaled dot-product attention. It then applies the softmax function to obtain normalized attention weights and computes the final attention output."
   ]
  },
  {
   "cell_type": "code",
   "execution_count": 35,
   "metadata": {},
   "outputs": [
    {
     "name": "stdout",
     "output_type": "stream",
     "text": [
      "Attention Weights Shape: (1, 8, 13, 13)\n",
      "Attention Output Shape: (1, 8, 13, 8)\n"
     ]
    }
   ],
   "source": [
    "# Step 3: Scaled Dot-Product Attention\n",
    "dk = head_dim\n",
    "scores = mx.matmul(queries, keys.transpose(0, 1, 3, 2)) / mx.sqrt(mx.array([dk], dtype=queries.dtype))\n",
    "attention_weights = nn.softmax(scores, axis=-1)\n",
    "attention_output = mx.matmul(attention_weights, values)\n",
    "\n",
    "print(\"Attention Weights Shape:\", attention_weights.shape)\n",
    "print(\"Attention Output Shape:\", attention_output.shape)"
   ]
  },
  {
   "cell_type": "markdown",
   "metadata": {},
   "source": [
    "#### Combine Heads"
   ]
  },
  {
   "cell_type": "markdown",
   "metadata": {},
   "source": [
    "This cell combines the output from all attention heads back into a single tensor. It reshapes the combined output to match the original embedding dimensions and prints the shape."
   ]
  },
  {
   "cell_type": "code",
   "execution_count": 36,
   "metadata": {},
   "outputs": [
    {
     "name": "stdout",
     "output_type": "stream",
     "text": [
      "Combined Output Shape: (1, 13, 64)\n"
     ]
    }
   ],
   "source": [
    "# Step 4: Combine Heads\n",
    "combined_output = attention_output.transpose(0, 2, 1, 3).reshape(batch_size, seq_length, embedding_dim)\n",
    "print(\"Combined Output Shape:\", combined_output.shape)"
   ]
  },
  {
   "cell_type": "markdown",
   "metadata": {},
   "source": [
    "#### Final Linear Transformation\n",
    "\n",
    "This cell applies a final linear transformation to the combined output from the attention heads."
   ]
  },
  {
   "cell_type": "code",
   "execution_count": 37,
   "metadata": {},
   "outputs": [
    {
     "name": "stdout",
     "output_type": "stream",
     "text": [
      "Final Output after Self-Attention Shape: (1, 13, 64)\n"
     ]
    }
   ],
   "source": [
    "# Step 5: Final Linear Transformation\n",
    "output_proj = nn.Linear(embedding_dim, embedding_dim, bias=False)\n",
    "final_output = output_proj(combined_output)\n",
    "print(\"Final Output after Self-Attention Shape:\", final_output.shape)"
   ]
  },
  {
   "cell_type": "markdown",
   "metadata": {},
   "source": [
    "### Conclusion\n",
    "\n",
    "In this notebook, we explored the foundational components of the transformer model architecture using the MLX framework, specifically tailored for Apple Silicon. Here’s a summary of what we covered:\n",
    "\n",
    "1.\tTokenization and Embedding:\n",
    "\n",
    "\t- We began by tokenizing an example sentence into individual tokens using NLTK.\n",
    "\t- Each token was then converted into a unique index using a simple vocabulary.\n",
    "\t- We utilized an embedding layer to convert these token indices into dense vectors, preparing them for \t   further processing.\n",
    "2.\tRotary Position Embedding (RoPE):\n",
    "\n",
    "\t- We applied the RoPE technique to enhance the input embeddings with positional information.\n",
    "\t- RoPE uses a rotational transformation based on sinusoidal functions to incorporate relative positional data directly into the embeddings.\n",
    "\t\n",
    "3. Self-Attention Mechanism:\n",
    "\t- Following positional encoding, we implemented the self-attention mechanism, a core component of transformer models.\n",
    "\t\t- This included:\n",
    "\t\t- Linear transformations to obtain Query, Key, and Value matrices from the input embeddings.\n",
    "\t\t- Splitting these matrices into multiple heads for multi-head attention.\n",
    "\t\t- Calculating attention scores through scaled dot-product attention and applying the softmax function to obtain normalized attention weights.\n",
    "\t\t- Combining the output from all attention heads and applying a final linear transformation to produce the final self-attention output.\n"
   ]
  }
 ],
 "metadata": {
  "kernelspec": {
   "display_name": ".venv",
   "language": "python",
   "name": "python3"
  },
  "language_info": {
   "codemirror_mode": {
    "name": "ipython",
    "version": 3
   },
   "file_extension": ".py",
   "mimetype": "text/x-python",
   "name": "python",
   "nbconvert_exporter": "python",
   "pygments_lexer": "ipython3",
   "version": "3.11.7"
  }
 },
 "nbformat": 4,
 "nbformat_minor": 2
}
